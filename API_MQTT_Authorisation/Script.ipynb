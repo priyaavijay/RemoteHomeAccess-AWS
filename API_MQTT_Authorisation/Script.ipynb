{
 "cells": [
  {
   "cell_type": "code",
   "execution_count": null,
   "metadata": {},
   "outputs": [],
   "source": [
    "import sqlite3\n",
    "database_name='Details.db'\n",
    "database_name_status='Status.db'"
   ]
  },
  {
   "cell_type": "code",
   "execution_count": null,
   "metadata": {},
   "outputs": [],
   "source": [
    "def creating_table():\n",
    "    connection=sqlite3.connect(database_name)\n",
    "    cursor=connection.cursor()\n",
    "    create_table_USER_ADMIN_MAPPING='CREATE TABLE IF NOT EXISTS [USER_ADMIN_MAPPING] ([ID] INTEGER  PRIMARY KEY AUTOINCREMENT NOT NULL,[USERNAME] TEXT NOT NULL,[ADMIN] TEXT,[ROUTER_ID] TEXT,[GROUP_ID] TEXT,[CONTROL] TEXT)'\n",
    "    cursor.execute(create_table_USER_ADMIN_MAPPING)\n",
    "    connection.commit()\n",
    "    connection.close()"
   ]
  },
  {
   "cell_type": "code",
   "execution_count": null,
   "metadata": {},
   "outputs": [],
   "source": [
    "creating_table()"
   ]
  },
  {
   "cell_type": "code",
   "execution_count": null,
   "metadata": {},
   "outputs": [],
   "source": [
    "def insert_into_USER_ADMIN_MAPPING(admin,username,router_id,group_id,control):\n",
    "    admin=str(admin).upper()\n",
    "    username=str(username).upper()\n",
    "    router_id=str(router_id).upper()\n",
    "    group_id=str(group_id).upper()\n",
    "    control=str(control).upper()\n",
    "    x=find_in_ADMIN_MAPPING(admin,username,router_id,group_id)\n",
    "    if(x==0):\n",
    "        connection=sqlite3.connect(database_name)\n",
    "        cursor=connection.cursor()\n",
    "        insert_query='INSERT INTO USER_ADMIN_MAPPING (ADMIN,USERNAME,ROUTER_ID,GROUP_ID,CONTROL) VALUES(?,?,?,?,?)'\n",
    "        cursor.execute(insert_query,(admin,username,router_id,group_id,control))\n",
    "        cursor.close()\n",
    "        connection.commit()\n",
    "        connection.close()\n",
    "    else:\n",
    "        connection=sqlite3.connect(database_name)\n",
    "        cursor=connection.cursor()\n",
    "        update_query=\"UPDATE USER_ADMIN_MAPPING SET CONTROL='\"+control+\"'WHERE ADMIN='\"+str(admin)+\"'AND USERNAME='\"+str(username)+\"'AND ROUTER_ID='\"+str(router_id)+\"'AND GROUP_ID='\"+str(group_id)+\"'\"\n",
    "        cursor.execute(update_query)\n",
    "        cursor.close()\n",
    "        connection.commit()\n",
    "        connection.close()\n",
    "        \n",
    "def find_in_ADMIN_MAPPING(admin,username,router_id,group_id):\n",
    "    admin=str(admin).upper()\n",
    "    username=str(username).upper()\n",
    "    router_id=str(router_id).upper()\n",
    "    group_id=str(group_id).upper()\n",
    "    connection=sqlite3.connect(database_name)\n",
    "    cursor=connection.cursor()\n",
    "    query=\"SELECT ADMIN,USERNAME,ROUTER_ID,GROUP_ID FROM USER_ADMIN_MAPPING WHERE ADMIN='\"+str(admin)+\"'AND USERNAME='\"+str(username)+\"'AND ROUTER_ID='\"+str(router_id)+\"'AND GROUP_ID='\"+str(group_id)+\"'\"\n",
    "    list_users=list()\n",
    "    for row in cursor.execute(query):\n",
    "        list_users.append(row)\n",
    "    cursor.close()\n",
    "    connection.commit()\n",
    "    connection.close()\n",
    "    if(len(list_users)==0):\n",
    "        return 0\n",
    "    else:\n",
    "        return len(list_users)\n",
    "\n",
    "def del_ADMIN(admin):\n",
    "    admin=str(admin).upper()\n",
    "    connection=sqlite3.connect(database_name)\n",
    "    cursor=connection.cursor()\n",
    "    query=\"DELETE FROM USER_ADMIN_MAPPING WHERE ADMIN='\"+str(admin)+\"'\"\n",
    "    cursor.execute(query)\n",
    "    cursor.close()\n",
    "    connection.commit()\n",
    "    connection.close()\n",
    "    \n",
    "def del_USERNAME(username):\n",
    "    username=str(username).upper()\n",
    "    connection=sqlite3.connect(database_name)\n",
    "    cursor=connection.cursor()\n",
    "    query=\"DELETE FROM USER_ADMIN_MAPPING WHERE USERNAME='\"+str(username)+\"'\"\n",
    "    cursor.execute(query)\n",
    "    cursor.close()\n",
    "    connection.commit()\n",
    "    connection.close()\n",
    "    \n",
    "def get_ADMIN_MAPPING(admin):\n",
    "    admin=str(admin).upper()\n",
    "    connection=sqlite3.connect(database_name)\n",
    "    cursor=connection.cursor()\n",
    "    query=\"SELECT USERNAME FROM USER_ADMIN_MAPPING WHERE ADMIN='\"+str(admin)+\"'\"\n",
    "    list_users=list()\n",
    "    \n",
    "    cursor.execute(query)\n",
    "    cursor.close()\n",
    "    connection.commit()\n",
    "    connection.close()"
   ]
  },
  {
   "cell_type": "code",
   "execution_count": null,
   "metadata": {},
   "outputs": [],
   "source": [
    "def get_ROUTER_GROUP(ROUTER_ID,GROUP_ID):\n",
    "    ROUTER_ID=str(ROUTER_ID).upper()\n",
    "    list_users=list()\n",
    "    connection=sqlite3.connect(database_name_status)\n",
    "    cursor=connection.cursor()\n",
    "    query=\"SELECT ROUTER_ID,GROUP_ID,DEVICES,STATE FROM ROUTER WHERE ROUTER_ID = '\" + str(ROUTER_ID) +\"'AND GROUP_ID='\"+str(GROUP_ID)+\"'\"\n",
    "    for row in cursor.execute(query):\n",
    "        list_users.append(row)\n",
    "    \n",
    "    connection.commit()\n",
    "    connection.close()\n",
    "    return list_users"
   ]
  },
  {
   "cell_type": "code",
   "execution_count": null,
   "metadata": {},
   "outputs": [],
   "source": [
    "get_ROUTER_GROUP()"
   ]
  },
  {
   "cell_type": "code",
   "execution_count": null,
   "metadata": {},
   "outputs": [],
   "source": []
  },
  {
   "cell_type": "code",
   "execution_count": null,
   "metadata": {},
   "outputs": [],
   "source": []
  },
  {
   "cell_type": "code",
   "execution_count": null,
   "metadata": {},
   "outputs": [],
   "source": []
  },
  {
   "cell_type": "code",
   "execution_count": null,
   "metadata": {},
   "outputs": [],
   "source": [
    "del_USERNAME(\"assk\")"
   ]
  },
  {
   "cell_type": "code",
   "execution_count": null,
   "metadata": {},
   "outputs": [],
   "source": [
    "insert_into_USER_ADMIN_MAPPING(\"assh\",\"assk\",\"assk\",\"assk\",\"assk\")"
   ]
  },
  {
   "cell_type": "code",
   "execution_count": 1,
   "metadata": {},
   "outputs": [],
   "source": [
    "import table as tb"
   ]
  },
  {
   "cell_type": "code",
   "execution_count": 19,
   "metadata": {},
   "outputs": [],
   "source": [
    "tb.insert_command(\"ABCD123\",\"LAB\",\"FAN1\",\"OFF\")"
   ]
  },
  {
   "cell_type": "code",
   "execution_count": null,
   "metadata": {},
   "outputs": [],
   "source": []
  },
  {
   "cell_type": "code",
   "execution_count": null,
   "metadata": {},
   "outputs": [],
   "source": []
  },
  {
   "cell_type": "code",
   "execution_count": null,
   "metadata": {},
   "outputs": [],
   "source": [
    "tb.get_USERS_status(\"SHASHANK79\",\"ABCD123\",\"LAB\")"
   ]
  },
  {
   "cell_type": "code",
   "execution_count": 2,
   "metadata": {},
   "outputs": [
    {
     "data": {
      "text/plain": [
       "[('ABCD123', 'LAB')]"
      ]
     },
     "execution_count": 2,
     "metadata": {},
     "output_type": "execute_result"
    }
   ],
   "source": [
    "tb.user_dev(\"SHASHANK79\")"
   ]
  },
  {
   "cell_type": "code",
   "execution_count": null,
   "metadata": {},
   "outputs": [],
   "source": [
    "tb.get_ROUTER_GROUP()"
   ]
  }
 ],
 "metadata": {
  "kernelspec": {
   "display_name": "Python 3",
   "language": "python",
   "name": "python3"
  },
  "language_info": {
   "codemirror_mode": {
    "name": "ipython",
    "version": 3
   },
   "file_extension": ".py",
   "mimetype": "text/x-python",
   "name": "python",
   "nbconvert_exporter": "python",
   "pygments_lexer": "ipython3",
   "version": "3.7.1"
  }
 },
 "nbformat": 4,
 "nbformat_minor": 2
}
